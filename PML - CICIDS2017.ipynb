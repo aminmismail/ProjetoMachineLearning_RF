{
 "cells": [
  {
   "cell_type": "markdown",
   "id": "49807a75",
   "metadata": {},
   "source": [
    "<h1>Imports</h1>"
   ]
  },
  {
   "cell_type": "code",
   "execution_count": null,
   "id": "122e2c8a",
   "metadata": {},
   "outputs": [],
   "source": [
    "import pandas as pd\n",
    "import numpy as np\n",
    "\n",
    "from imblearn.combine import SMOTEENN\n",
    "from imblearn.under_sampling import RandomUnderSampler\n",
    "from sklearn.ensemble import RandomForestClassifier\n",
    "from sklearn.metrics import accuracy_score, confusion_matrix, precision_score, ConfusionMatrixDisplay\n",
    "from sklearn.model_selection import RandomizedSearchCV, train_test_split, KFold, cross_val_score, cross_validate\n",
    "from sklearn.utils import shuffle\n",
    "from xgboost import XGBClassifier\n",
    "from sklearn.preprocessing import MinMaxScaler\n",
    "from sklearn.neighbors import KNeighborsClassifier\n",
    "import random\n",
    "\n",
    "import matplotlib.pyplot as plt"
   ]
  },
  {
   "cell_type": "markdown",
   "id": "d10c3189",
   "metadata": {},
   "source": [
    "<h1>Carregando os dados</h1>"
   ]
  },
  {
   "cell_type": "code",
   "execution_count": null,
   "id": "10e65070",
   "metadata": {},
   "outputs": [],
   "source": [
    "#Carregar o dataset\n",
    "features = pd.read_csv('outReduced2.csv')"
   ]
  },
  {
   "cell_type": "code",
   "execution_count": null,
   "id": "42f9558c",
   "metadata": {},
   "outputs": [],
   "source": [
    "features.head(10)"
   ]
  },
  {
   "cell_type": "code",
   "execution_count": null,
   "id": "5806cd72",
   "metadata": {},
   "outputs": [],
   "source": [
    "#Para identificar todos labels\n",
    "print(features['Label'].unique())"
   ]
  },
  {
   "cell_type": "code",
   "execution_count": null,
   "id": "2320251c",
   "metadata": {},
   "outputs": [],
   "source": [
    "#Para contar todos labels\n",
    "features['Label'].value_counts()"
   ]
  },
  {
   "cell_type": "code",
   "execution_count": null,
   "id": "67a44767",
   "metadata": {},
   "outputs": [],
   "source": [
    "#Para plotar o grafico dos labels\n",
    "#'pie' - grafico de pizza\n",
    "#'bar' - grafico em barras\n",
    "features['Label'].value_counts().plot(kind = 'pie')"
   ]
  },
  {
   "cell_type": "code",
   "execution_count": null,
   "id": "13b9242f",
   "metadata": {},
   "outputs": [],
   "source": [
    "#Agrupando os tipos de ataques\n",
    "features['Label'] = features['Label'].replace('Web Attack - Brute Force', 'Web Attack')\n",
    "features['Label'] = features['Label'].replace('Web Attack - XSS', 'Web Attack')\n",
    "features['Label'] = features['Label'].replace('Web Attack - Sql Injection', 'Web Attack')\n",
    "features['Label'] = features['Label'].replace('FTP-Patator', 'FTP-Brute')\n",
    "features['Label'] = features['Label'].replace('SSH-Patator', 'SSH-Brute')\n",
    "features['Label'] = features['Label'].replace('DoS slowloris', 'DoS')\n",
    "features['Label'] = features['Label'].replace('DoS Slowhttptest', 'DoS')\n",
    "features['Label'] = features['Label'].replace('DoS Hulk', 'DoS')\n",
    "features['Label'] = features['Label'].replace('DoS GoldenEye', 'DoS')\n",
    "features['Label'] = features['Label'].replace('Bot', 'BotNet')"
   ]
  },
  {
   "cell_type": "code",
   "execution_count": null,
   "id": "4958e261",
   "metadata": {},
   "outputs": [],
   "source": [
    "#Removendo classes com baixa quantidade de instancias\n",
    "features.drop(features[features['Label'] == 'Heartbleed'].index, inplace = True)\n",
    "features.drop(features[features['Label'] == 'Infiltration'].index, inplace = True)"
   ]
  },
  {
   "cell_type": "code",
   "execution_count": null,
   "id": "f49355d8",
   "metadata": {},
   "outputs": [],
   "source": [
    "#Transformação dos labels nominais para valores numéricos\n",
    "features['Label'] = features['Label'].replace('BENIGN', 0)\n",
    "features['Label'] = features['Label'].replace('DoS', 1)\n",
    "features['Label'] = features['Label'].replace('PortScan', 2)\n",
    "features['Label'] = features['Label'].replace('DDoS', 3)\n",
    "features['Label'] = features['Label'].replace('FTP-Brute', 4)\n",
    "features['Label'] = features['Label'].replace('SSH-Brute', 5)\n",
    "features['Label'] = features['Label'].replace('Web Attack', 6)\n",
    "features['Label'] = features['Label'].replace('BotNet', 7)"
   ]
  },
  {
   "cell_type": "code",
   "execution_count": null,
   "id": "9d67b322",
   "metadata": {},
   "outputs": [],
   "source": [
    "#Seleção de atributos (24 no total com Label)\n",
    "features = features[['Bwd Packet Length Min','Subflow Fwd Bytes','Total Length of Fwd Packets','Fwd Packet Length Mean','Bwd Packet Length Std','Flow IAT Min','Fwd IAT Min','Flow IAT Mean','Flow Duration','Flow IAT Std','Active Min','Active Mean','Bwd IAT Mean','Fwd IAT Mean','ACK Flag Count','Fwd PSH Flags','SYN Flag Count','Fwd Packets/s','Init_Win_bytes_backward','Bwd Packets/s','Init_Win_bytes_forward','PSH Flag Count','Average Packet Size','Label']]"
   ]
  },
  {
   "cell_type": "code",
   "execution_count": null,
   "id": "8855813c",
   "metadata": {},
   "outputs": [],
   "source": [
    "#Tratamento de dados infinitos, NaN e Nulos\n",
    "features[features == np.inf] = np.nan\n",
    "\n",
    "#Checa se há valores nulos/NaN\n",
    "features.isnull().values.any()\n",
    "\n",
    "#Substitua pela valor médio do atributo em questão caso haja valores nulos/NaN\n",
    "features.fillna(features.mean(), inplace=True)"
   ]
  },
  {
   "cell_type": "code",
   "execution_count": null,
   "id": "5c1ba783",
   "metadata": {},
   "outputs": [],
   "source": [
    "#Guarda os labels em um array e exclui a coluna 'Label' do dataframe \"features\"\n",
    "labels = np.array(features['Label'])\n",
    "features = features.drop('Label', axis = 1)"
   ]
  },
  {
   "cell_type": "code",
   "execution_count": null,
   "id": "5af96425",
   "metadata": {},
   "outputs": [],
   "source": [
    "#Realiza o undersampling nas classes\n",
    "sampling_strategy = {0: 20000, 1: 20000, 2: 20000, 3: 20000, 4: 7938, 5: 5897, 6: 2180, 7:1966}\n",
    "rus = RandomUnderSampler(sampling_strategy=sampling_strategy)\n",
    "features, labels = rus.fit_resample(features, labels)"
   ]
  },
  {
   "cell_type": "code",
   "execution_count": null,
   "id": "649050e3",
   "metadata": {},
   "outputs": [],
   "source": [
    "#Realiza o SMOTE + ENN (oversampling) nas classes\n",
    "features, labels = SMOTEENN().fit_resample(features, labels)\n",
    "print(np.unique(labels, return_counts=True))"
   ]
  },
  {
   "cell_type": "markdown",
   "id": "6e28576f",
   "metadata": {},
   "source": [
    "<h1>Preparando os classificadores</h1>"
   ]
  },
  {
   "cell_type": "code",
   "execution_count": null,
   "id": "028839a3",
   "metadata": {},
   "outputs": [],
   "source": [
    "#Normaliza os dados para o KNN dar certo\n",
    "scaler = MinMaxScaler()\n",
    "features = scaler.fit_transform(features)"
   ]
  },
  {
   "cell_type": "code",
   "execution_count": null,
   "id": "3617fc94",
   "metadata": {},
   "outputs": [],
   "source": [
    "#Separa as entradas no treino/teste para a busca do melhor parametro\n",
    "X_train, X_test, y_train, y_test = train_test_split(features, labels, test_size = 0.3, shuffle=True, random_state = 0)"
   ]
  },
  {
   "cell_type": "code",
   "execution_count": null,
   "id": "add9b80d",
   "metadata": {},
   "outputs": [],
   "source": [
    "#Checa a quantidade de instancias de cada classe do teste/treino\n",
    "print(np.unique(train_labels, return_counts=True))\n",
    "print(np.unique(test_labels, return_counts=True))"
   ]
  },
  {
   "cell_type": "code",
   "execution_count": null,
   "id": "ae1eb4f0",
   "metadata": {
    "scrolled": true
   },
   "outputs": [],
   "source": [
    "#Realiza a \"busca\" pelo melhor hiperparametro (estimator) para o Random Forest\n",
    "param_dist = {'n_estimators': randint(100,400)}\n",
    "rf = RandomForestClassifier()\n",
    "rand_search = RandomizedSearchCV(rf, param_distributions = param_dist, n_iter=5, cv=5)\n",
    "rand_search.fit(X_train, y_train)\n",
    "\n",
    "#Variável do melhor classificador\n",
    "best_rf = rand_search.best_estimator_\n",
    "\n",
    "#Mostra o melhor hiperparametro\n",
    "print('Melhor hiperparametro RF:',  best_rf)"
   ]
  },
  {
   "cell_type": "code",
   "execution_count": null,
   "id": "f15403b8",
   "metadata": {},
   "outputs": [],
   "source": [
    "#Realiza a \"busca\" pelo melhor hiperparametro (estimator) para o XGBoost\n",
    "param_dist = {'n_estimators': randint(100,400)}\n",
    "xgb = XGBClassifier()\n",
    "rand_search = RandomizedSearchCV(xgb, param_distributions = param_dist, n_iter=5, cv=5)\n",
    "rand_search.fit(X_train, y_train)\n",
    "\n",
    "#Variável do melhor classificador\n",
    "best_xgb = rand_search.best_estimator_\n",
    "\n",
    "#Mostra o melhor hiperparametro\n",
    "print('Melhor hiperparametro XGBoost:',  best_xgb)"
   ]
  },
  {
   "cell_type": "code",
   "execution_count": null,
   "id": "5b0f6efb",
   "metadata": {},
   "outputs": [],
   "source": [
    "#Realiza a \"busca\" pelo melhor hiperparametro (estimator) para o KNN\n",
    "param_dist = {'n_neighbors': randint(1,17)}\n",
    "knn = KNeighborsClassifier()\n",
    "rand_search = RandomizedSearchCV(knn, param_distributions = param_dist, n_iter=5, cv=5)\n",
    "rand_search.fit(X_train, y_train)\n",
    "\n",
    "#Variável do melhor classificador\n",
    "best_knn = rand_search.best_params_\n",
    "\n",
    "#Mostra o melhor hiperparametro\n",
    "print('Melhor hiperparametro KNN:',  best_knn)"
   ]
  },
  {
   "cell_type": "code",
   "execution_count": null,
   "id": "c1d7d5fd",
   "metadata": {},
   "outputs": [],
   "source": [
    "#Criando os classificadores RF, XGBoost e KNN com os melhores parametros\n",
    "rf = RandomForestClassifier(n_estimators = 300)\n",
    "xgb = XGBClassifier(n_estimators = 300)\n",
    "knn = KNeighborsClassifier(n_neighbors = 11)"
   ]
  },
  {
   "cell_type": "markdown",
   "id": "c6a13970",
   "metadata": {},
   "source": [
    "<h1>Treino e Teste dos modelos</h1>"
   ]
  },
  {
   "cell_type": "code",
   "execution_count": null,
   "id": "a15d9172",
   "metadata": {},
   "outputs": [],
   "source": [
    "kFold = KFold(n_splits=5,shuffle=True)\n",
    "for train_index, test_index in kFold.split(features):\n",
    "    \n",
    "    X_train, X_test, y_train, y_test = features[train_index], features[test_index], labels[train_index], labels[test_index]\n",
    "    \n",
    "    \n",
    "    rf.fit(X_train, y_train)\n",
    "    \n",
    "    xgb.fit(X_train, y_train)\n",
    "    \n",
    "    knn.fit(X_train, y_train)\n",
    "    \n",
    "    \n",
    "    predrf = rf.predict(X_test)\n",
    "    print(\"Accuracy RF: \", round(accuracy_score(y_test, predrf), 4), \"\\n\")\n",
    "    print(\"Precision RF: \", round(precision_score(y_test, predrf, average='macro'), 4), \"\\n --- \\n\")\n",
    "    \n",
    "    \n",
    "    predxgb = xgb.predict(X_test)\n",
    "    print(\"Accuracy XGB: \", round(accuracy_score(y_test, predxgb), 4), \"\\n\")\n",
    "    print(\"Precision XGB: \", round(precision_score(y_test, predxgb, average='macro'), 4), \"\\n --- \\n\")\n",
    "\n",
    "    \n",
    "    predknn = knn.predict(X_test)\n",
    "    print(\"Accuracy KNN: \", round(accuracy_score(y_test, predknn), 4), \"\\n\")\n",
    "    print(\"Precision KNN: \", round(precision_score(y_test, predknn, average='macro'), 4), \"\\n --- \\n\")\n"
   ]
  },
  {
   "cell_type": "markdown",
   "id": "aecd2e62",
   "metadata": {},
   "source": [
    "<h1>Construindo e plotando matrizes de confusão dos modelos<h1>\n",
    "<h2>Utiliza o último resultado do K-Fold</h2>"
   ]
  },
  {
   "cell_type": "code",
   "execution_count": null,
   "id": "1ff0bc03",
   "metadata": {
    "scrolled": false
   },
   "outputs": [],
   "source": [
    "#Matriz de confusão do RF\n",
    "cmrf = confusion_matrix(y_test, predrf)\n",
    "ConfusionMatrixDisplay(confusion_matrix=cmrf).plot();"
   ]
  },
  {
   "cell_type": "code",
   "execution_count": null,
   "id": "b68d2b85",
   "metadata": {
    "scrolled": false
   },
   "outputs": [],
   "source": [
    "#Matriz de confusão do XGBoost\n",
    "cmxgb = confusion_matrix(y_test, predxgb)\n",
    "ConfusionMatrixDisplay(confusion_matrix=cmxgb).plot();"
   ]
  },
  {
   "cell_type": "code",
   "execution_count": null,
   "id": "b7c0ab77",
   "metadata": {
    "scrolled": false
   },
   "outputs": [],
   "source": [
    "#Matriz de confusão do KNN\n",
    "cmknn = confusion_matrix(y_test, predknn)\n",
    "ConfusionMatrixDisplay(confusion_matrix=cmknn).plot();"
   ]
  },
  {
   "cell_type": "code",
   "execution_count": null,
   "id": "c2335bb8",
   "metadata": {
    "scrolled": true
   },
   "outputs": [],
   "source": [
    "#Se desejado, é possível realizar o cross_validate (CV) (que usa o StratifiedKFold) para re-testar os modelos\n",
    "\n",
    "#CV do RF\n",
    "print(cross_validate(rf, features, labels, scoring=['accuracy', 'precision_macro'], cv=5))\n",
    "\n",
    "#CV do XGBoost\n",
    "print(cross_validate(xgb, features, labels, scoring=['accuracy', 'precision_macro'], cv=5))\n",
    "\n",
    "#CV do KNN\n",
    "print(cross_validate(knn, features, labels, scoring=['accuracy', 'precision_macro'], cv=5))"
   ]
  }
 ],
 "metadata": {
  "kernelspec": {
   "display_name": "Python 3 (ipykernel)",
   "language": "python",
   "name": "python3"
  },
  "language_info": {
   "codemirror_mode": {
    "name": "ipython",
    "version": 3
   },
   "file_extension": ".py",
   "mimetype": "text/x-python",
   "name": "python",
   "nbconvert_exporter": "python",
   "pygments_lexer": "ipython3",
   "version": "3.10.11"
  }
 },
 "nbformat": 4,
 "nbformat_minor": 5
}
