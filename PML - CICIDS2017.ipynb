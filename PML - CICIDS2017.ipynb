{
 "cells": [
  {
   "cell_type": "markdown",
   "id": "49807a75",
   "metadata": {},
   "source": [
    "<h1>Imports</h1>"
   ]
  },
  {
   "cell_type": "code",
   "execution_count": 54,
   "id": "122e2c8a",
   "metadata": {},
   "outputs": [],
   "source": [
    "import pandas as pd\n",
    "import numpy as np\n",
    "\n",
    "from imblearn.combine import SMOTEENN\n",
    "from imblearn.under_sampling import RandomUnderSampler\n",
    "from sklearn.ensemble import RandomForestClassifier\n",
    "from sklearn.metrics import accuracy_score, confusion_matrix, precision_score, ConfusionMatrixDisplay\n",
    "from sklearn.model_selection import RandomizedSearchCV, train_test_split, KFold, cross_val_score, cross_validate\n",
    "from sklearn.utils import shuffle\n",
    "from xgboost import XGBClassifier\n",
    "from sklearn.preprocessing import MinMaxScaler\n",
    "from sklearn.neighbors import KNeighborsClassifier\n",
    "import random\n",
    "\n",
    "import matplotlib.pyplot as plt"
   ]
  },
  {
   "cell_type": "markdown",
   "id": "d10c3189",
   "metadata": {},
   "source": [
    "<h1>Carregando os dados</h1>"
   ]
  },
  {
   "cell_type": "code",
   "execution_count": 45,
   "id": "10e65070",
   "metadata": {},
   "outputs": [],
   "source": [
    "#Carregar o dataset\n",
    "features = pd.read_csv('outReduced2.csv')"
   ]
  },
  {
   "cell_type": "code",
   "execution_count": 46,
   "id": "42f9558c",
   "metadata": {
    "collapsed": true
   },
   "outputs": [
    {
     "data": {
      "text/html": [
       "<div>\n",
       "<style scoped>\n",
       "    .dataframe tbody tr th:only-of-type {\n",
       "        vertical-align: middle;\n",
       "    }\n",
       "\n",
       "    .dataframe tbody tr th {\n",
       "        vertical-align: top;\n",
       "    }\n",
       "\n",
       "    .dataframe thead th {\n",
       "        text-align: right;\n",
       "    }\n",
       "</style>\n",
       "<table border=\"1\" class=\"dataframe\">\n",
       "  <thead>\n",
       "    <tr style=\"text-align: right;\">\n",
       "      <th></th>\n",
       "      <th>Bwd Packet Length Min</th>\n",
       "      <th>Subflow Fwd Bytes</th>\n",
       "      <th>Total Length of Fwd Packets</th>\n",
       "      <th>Fwd Packet Length Mean</th>\n",
       "      <th>Bwd Packet Length Std</th>\n",
       "      <th>Flow IAT Min</th>\n",
       "      <th>Fwd IAT Min</th>\n",
       "      <th>Flow IAT Mean</th>\n",
       "      <th>Flow Duration</th>\n",
       "      <th>Flow IAT Std</th>\n",
       "      <th>...</th>\n",
       "      <th>ACK Flag Count</th>\n",
       "      <th>Fwd PSH Flags</th>\n",
       "      <th>SYN Flag Count</th>\n",
       "      <th>Fwd Packets/s</th>\n",
       "      <th>Init_Win_bytes_backward</th>\n",
       "      <th>Bwd Packets/s</th>\n",
       "      <th>Init_Win_bytes_forward</th>\n",
       "      <th>PSH Flag Count</th>\n",
       "      <th>Average Packet Size</th>\n",
       "      <th>Label</th>\n",
       "    </tr>\n",
       "  </thead>\n",
       "  <tbody>\n",
       "    <tr>\n",
       "      <th>0</th>\n",
       "      <td>0</td>\n",
       "      <td>1022</td>\n",
       "      <td>1022</td>\n",
       "      <td>146.000000</td>\n",
       "      <td>439.659284</td>\n",
       "      <td>4</td>\n",
       "      <td>4</td>\n",
       "      <td>3.988552e+05</td>\n",
       "      <td>5185118</td>\n",
       "      <td>1.372181e+06</td>\n",
       "      <td>...</td>\n",
       "      <td>0</td>\n",
       "      <td>0</td>\n",
       "      <td>0</td>\n",
       "      <td>1.350017</td>\n",
       "      <td>252</td>\n",
       "      <td>1.350017</td>\n",
       "      <td>29200</td>\n",
       "      <td>1</td>\n",
       "      <td>238.785714</td>\n",
       "      <td>6</td>\n",
       "    </tr>\n",
       "    <tr>\n",
       "      <th>1</th>\n",
       "      <td>0</td>\n",
       "      <td>736</td>\n",
       "      <td>736</td>\n",
       "      <td>73.600000</td>\n",
       "      <td>1639.915430</td>\n",
       "      <td>36</td>\n",
       "      <td>192</td>\n",
       "      <td>3.160859e+05</td>\n",
       "      <td>5057374</td>\n",
       "      <td>1.239255e+06</td>\n",
       "      <td>...</td>\n",
       "      <td>0</td>\n",
       "      <td>0</td>\n",
       "      <td>0</td>\n",
       "      <td>1.977311</td>\n",
       "      <td>243</td>\n",
       "      <td>1.384118</td>\n",
       "      <td>29200</td>\n",
       "      <td>1</td>\n",
       "      <td>624.470588</td>\n",
       "      <td>6</td>\n",
       "    </tr>\n",
       "    <tr>\n",
       "      <th>2</th>\n",
       "      <td>0</td>\n",
       "      <td>0</td>\n",
       "      <td>0</td>\n",
       "      <td>0.000000</td>\n",
       "      <td>0.000000</td>\n",
       "      <td>81</td>\n",
       "      <td>0</td>\n",
       "      <td>8.100000e+01</td>\n",
       "      <td>81</td>\n",
       "      <td>0.000000e+00</td>\n",
       "      <td>...</td>\n",
       "      <td>1</td>\n",
       "      <td>0</td>\n",
       "      <td>0</td>\n",
       "      <td>12345.679010</td>\n",
       "      <td>252</td>\n",
       "      <td>12345.679010</td>\n",
       "      <td>270</td>\n",
       "      <td>0</td>\n",
       "      <td>0.000000</td>\n",
       "      <td>6</td>\n",
       "    </tr>\n",
       "    <tr>\n",
       "      <th>3</th>\n",
       "      <td>0</td>\n",
       "      <td>969</td>\n",
       "      <td>969</td>\n",
       "      <td>138.428571</td>\n",
       "      <td>463.646417</td>\n",
       "      <td>46</td>\n",
       "      <td>323</td>\n",
       "      <td>4.791930e+05</td>\n",
       "      <td>5271123</td>\n",
       "      <td>1.488840e+06</td>\n",
       "      <td>...</td>\n",
       "      <td>0</td>\n",
       "      <td>0</td>\n",
       "      <td>0</td>\n",
       "      <td>1.327990</td>\n",
       "      <td>244</td>\n",
       "      <td>0.948564</td>\n",
       "      <td>29200</td>\n",
       "      <td>1</td>\n",
       "      <td>199.916667</td>\n",
       "      <td>6</td>\n",
       "    </tr>\n",
       "    <tr>\n",
       "      <th>4</th>\n",
       "      <td>0</td>\n",
       "      <td>973</td>\n",
       "      <td>973</td>\n",
       "      <td>139.000000</td>\n",
       "      <td>502.535903</td>\n",
       "      <td>18</td>\n",
       "      <td>18</td>\n",
       "      <td>5.020638e+05</td>\n",
       "      <td>5020638</td>\n",
       "      <td>1.567338e+06</td>\n",
       "      <td>...</td>\n",
       "      <td>0</td>\n",
       "      <td>0</td>\n",
       "      <td>0</td>\n",
       "      <td>1.394245</td>\n",
       "      <td>244</td>\n",
       "      <td>0.796711</td>\n",
       "      <td>29200</td>\n",
       "      <td>1</td>\n",
       "      <td>218.454545</td>\n",
       "      <td>6</td>\n",
       "    </tr>\n",
       "    <tr>\n",
       "      <th>5</th>\n",
       "      <td>0</td>\n",
       "      <td>2145</td>\n",
       "      <td>2145</td>\n",
       "      <td>178.750000</td>\n",
       "      <td>1966.095532</td>\n",
       "      <td>59</td>\n",
       "      <td>195</td>\n",
       "      <td>8.573942e+04</td>\n",
       "      <td>1629049</td>\n",
       "      <td>3.339166e+05</td>\n",
       "      <td>...</td>\n",
       "      <td>0</td>\n",
       "      <td>0</td>\n",
       "      <td>0</td>\n",
       "      <td>7.366261</td>\n",
       "      <td>262</td>\n",
       "      <td>4.910841</td>\n",
       "      <td>29200</td>\n",
       "      <td>1</td>\n",
       "      <td>618.150000</td>\n",
       "      <td>6</td>\n",
       "    </tr>\n",
       "    <tr>\n",
       "      <th>6</th>\n",
       "      <td>0</td>\n",
       "      <td>358</td>\n",
       "      <td>358</td>\n",
       "      <td>89.500000</td>\n",
       "      <td>381.500000</td>\n",
       "      <td>4</td>\n",
       "      <td>4</td>\n",
       "      <td>7.269101e+05</td>\n",
       "      <td>5088371</td>\n",
       "      <td>1.885618e+06</td>\n",
       "      <td>...</td>\n",
       "      <td>0</td>\n",
       "      <td>0</td>\n",
       "      <td>0</td>\n",
       "      <td>0.786106</td>\n",
       "      <td>235</td>\n",
       "      <td>0.786106</td>\n",
       "      <td>29200</td>\n",
       "      <td>1</td>\n",
       "      <td>140.125000</td>\n",
       "      <td>6</td>\n",
       "    </tr>\n",
       "    <tr>\n",
       "      <th>7</th>\n",
       "      <td>0</td>\n",
       "      <td>5927</td>\n",
       "      <td>5927</td>\n",
       "      <td>211.678571</td>\n",
       "      <td>961.566366</td>\n",
       "      <td>40</td>\n",
       "      <td>705</td>\n",
       "      <td>4.653305e+05</td>\n",
       "      <td>21405204</td>\n",
       "      <td>1.188382e+06</td>\n",
       "      <td>...</td>\n",
       "      <td>0</td>\n",
       "      <td>0</td>\n",
       "      <td>0</td>\n",
       "      <td>1.308093</td>\n",
       "      <td>348</td>\n",
       "      <td>0.887635</td>\n",
       "      <td>29200</td>\n",
       "      <td>1</td>\n",
       "      <td>549.319149</td>\n",
       "      <td>6</td>\n",
       "    </tr>\n",
       "    <tr>\n",
       "      <th>8</th>\n",
       "      <td>0</td>\n",
       "      <td>0</td>\n",
       "      <td>0</td>\n",
       "      <td>0.000000</td>\n",
       "      <td>0.000000</td>\n",
       "      <td>66</td>\n",
       "      <td>0</td>\n",
       "      <td>6.600000e+01</td>\n",
       "      <td>66</td>\n",
       "      <td>0.000000e+00</td>\n",
       "      <td>...</td>\n",
       "      <td>1</td>\n",
       "      <td>0</td>\n",
       "      <td>0</td>\n",
       "      <td>15151.515150</td>\n",
       "      <td>235</td>\n",
       "      <td>15151.515150</td>\n",
       "      <td>241</td>\n",
       "      <td>0</td>\n",
       "      <td>0.000000</td>\n",
       "      <td>6</td>\n",
       "    </tr>\n",
       "    <tr>\n",
       "      <th>9</th>\n",
       "      <td>0</td>\n",
       "      <td>0</td>\n",
       "      <td>0</td>\n",
       "      <td>0.000000</td>\n",
       "      <td>0.000000</td>\n",
       "      <td>91</td>\n",
       "      <td>632</td>\n",
       "      <td>1.350099e+06</td>\n",
       "      <td>4050296</td>\n",
       "      <td>2.337892e+06</td>\n",
       "      <td>...</td>\n",
       "      <td>0</td>\n",
       "      <td>0</td>\n",
       "      <td>0</td>\n",
       "      <td>0.740687</td>\n",
       "      <td>28960</td>\n",
       "      <td>0.246896</td>\n",
       "      <td>29200</td>\n",
       "      <td>1</td>\n",
       "      <td>0.000000</td>\n",
       "      <td>6</td>\n",
       "    </tr>\n",
       "  </tbody>\n",
       "</table>\n",
       "<p>10 rows × 24 columns</p>\n",
       "</div>"
      ],
      "text/plain": [
       "   Bwd Packet Length Min  Subflow Fwd Bytes  Total Length of Fwd Packets   \n",
       "0                      0               1022                         1022  \\\n",
       "1                      0                736                          736   \n",
       "2                      0                  0                            0   \n",
       "3                      0                969                          969   \n",
       "4                      0                973                          973   \n",
       "5                      0               2145                         2145   \n",
       "6                      0                358                          358   \n",
       "7                      0               5927                         5927   \n",
       "8                      0                  0                            0   \n",
       "9                      0                  0                            0   \n",
       "\n",
       "   Fwd Packet Length Mean  Bwd Packet Length Std  Flow IAT Min  Fwd IAT Min   \n",
       "0              146.000000             439.659284             4            4  \\\n",
       "1               73.600000            1639.915430            36          192   \n",
       "2                0.000000               0.000000            81            0   \n",
       "3              138.428571             463.646417            46          323   \n",
       "4              139.000000             502.535903            18           18   \n",
       "5              178.750000            1966.095532            59          195   \n",
       "6               89.500000             381.500000             4            4   \n",
       "7              211.678571             961.566366            40          705   \n",
       "8                0.000000               0.000000            66            0   \n",
       "9                0.000000               0.000000            91          632   \n",
       "\n",
       "   Flow IAT Mean  Flow Duration  Flow IAT Std  ...  ACK Flag Count   \n",
       "0   3.988552e+05        5185118  1.372181e+06  ...               0  \\\n",
       "1   3.160859e+05        5057374  1.239255e+06  ...               0   \n",
       "2   8.100000e+01             81  0.000000e+00  ...               1   \n",
       "3   4.791930e+05        5271123  1.488840e+06  ...               0   \n",
       "4   5.020638e+05        5020638  1.567338e+06  ...               0   \n",
       "5   8.573942e+04        1629049  3.339166e+05  ...               0   \n",
       "6   7.269101e+05        5088371  1.885618e+06  ...               0   \n",
       "7   4.653305e+05       21405204  1.188382e+06  ...               0   \n",
       "8   6.600000e+01             66  0.000000e+00  ...               1   \n",
       "9   1.350099e+06        4050296  2.337892e+06  ...               0   \n",
       "\n",
       "   Fwd PSH Flags  SYN Flag Count  Fwd Packets/s  Init_Win_bytes_backward   \n",
       "0              0               0       1.350017                      252  \\\n",
       "1              0               0       1.977311                      243   \n",
       "2              0               0   12345.679010                      252   \n",
       "3              0               0       1.327990                      244   \n",
       "4              0               0       1.394245                      244   \n",
       "5              0               0       7.366261                      262   \n",
       "6              0               0       0.786106                      235   \n",
       "7              0               0       1.308093                      348   \n",
       "8              0               0   15151.515150                      235   \n",
       "9              0               0       0.740687                    28960   \n",
       "\n",
       "   Bwd Packets/s  Init_Win_bytes_forward  PSH Flag Count  Average Packet Size   \n",
       "0       1.350017                   29200               1           238.785714  \\\n",
       "1       1.384118                   29200               1           624.470588   \n",
       "2   12345.679010                     270               0             0.000000   \n",
       "3       0.948564                   29200               1           199.916667   \n",
       "4       0.796711                   29200               1           218.454545   \n",
       "5       4.910841                   29200               1           618.150000   \n",
       "6       0.786106                   29200               1           140.125000   \n",
       "7       0.887635                   29200               1           549.319149   \n",
       "8   15151.515150                     241               0             0.000000   \n",
       "9       0.246896                   29200               1             0.000000   \n",
       "\n",
       "   Label  \n",
       "0      6  \n",
       "1      6  \n",
       "2      6  \n",
       "3      6  \n",
       "4      6  \n",
       "5      6  \n",
       "6      6  \n",
       "7      6  \n",
       "8      6  \n",
       "9      6  \n",
       "\n",
       "[10 rows x 24 columns]"
      ]
     },
     "execution_count": 46,
     "metadata": {},
     "output_type": "execute_result"
    }
   ],
   "source": [
    "features.head(10)"
   ]
  },
  {
   "cell_type": "code",
   "execution_count": 47,
   "id": "5806cd72",
   "metadata": {
    "collapsed": true
   },
   "outputs": [
    {
     "name": "stdout",
     "output_type": "stream",
     "text": [
      "[6 3 2 7 4 5 1 0]\n"
     ]
    }
   ],
   "source": [
    "#Para identificar todos labels\n",
    "print(features['Label'].unique())"
   ]
  },
  {
   "cell_type": "code",
   "execution_count": 48,
   "id": "2320251c",
   "metadata": {
    "collapsed": true
   },
   "outputs": [
    {
     "data": {
      "text/plain": [
       "Label\n",
       "0    529918\n",
       "1    252661\n",
       "2    158930\n",
       "3    128027\n",
       "4      7938\n",
       "5      5897\n",
       "6      2180\n",
       "7      1966\n",
       "Name: count, dtype: int64"
      ]
     },
     "execution_count": 48,
     "metadata": {},
     "output_type": "execute_result"
    }
   ],
   "source": [
    "#Para contar todos labels\n",
    "features['Label'].value_counts()"
   ]
  },
  {
   "cell_type": "code",
   "execution_count": 25,
   "id": "67a44767",
   "metadata": {},
   "outputs": [
    {
     "data": {
      "text/plain": [
       "<Axes: ylabel='count'>"
      ]
     },
     "execution_count": 25,
     "metadata": {},
     "output_type": "execute_result"
    },
    {
     "data": {
      "image/png": "[encoded data removed]",
      "text/plain": [
       "<Figure size 640x480 with 1 Axes>"
      ]
     },
     "metadata": {},
     "output_type": "display_data"
    }
   ],
   "source": [
    "#Para plotar o grafico dos labels\n",
    "#'pie' - grafico de pizza\n",
    "#'bar' - grafico em barras\n",
    "features['Label'].value_counts().plot(kind = 'pie')"
   ]
  },
  {
   "cell_type": "code",
   "execution_count": null,
   "id": "13b9242f",
   "metadata": {},
   "outputs": [],
   "source": [
    "#Agrupando os tipos de ataques\n",
    "features['Label'] = features['Label'].replace('Web Attack - Brute Force', 'Web Attack')\n",
    "features['Label'] = features['Label'].replace('Web Attack - XSS', 'Web Attack')\n",
    "features['Label'] = features['Label'].replace('Web Attack - Sql Injection', 'Web Attack')\n",
    "features['Label'] = features['Label'].replace('FTP-Patator', 'FTP-Brute')\n",
    "features['Label'] = features['Label'].replace('SSH-Patator', 'SSH-Brute')\n",
    "features['Label'] = features['Label'].replace('DoS slowloris', 'DoS')\n",
    "features['Label'] = features['Label'].replace('DoS Slowhttptest', 'DoS')\n",
    "features['Label'] = features['Label'].replace('DoS Hulk', 'DoS')\n",
    "features['Label'] = features['Label'].replace('DoS GoldenEye', 'DoS')\n",
    "features['Label'] = features['Label'].replace('Bot', 'BotNet')"
   ]
  },
  {
   "cell_type": "code",
   "execution_count": null,
   "id": "4958e261",
   "metadata": {},
   "outputs": [],
   "source": [
    "#Removendo classes com baixa quantidade de instancias\n",
    "features.drop(features[features['Label'] == 'Heartbleed'].index, inplace = True)\n",
    "features.drop(features[features['Label'] == 'Infiltration'].index, inplace = True)"
   ]
  },
  {
   "cell_type": "code",
   "execution_count": null,
   "id": "f49355d8",
   "metadata": {},
   "outputs": [],
   "source": [
    "#Transformação dos labels nominais para valores numéricos\n",
    "features['Label'] = features['Label'].replace('BENIGN', 0)\n",
    "features['Label'] = features['Label'].replace('DoS', 1)\n",
    "features['Label'] = features['Label'].replace('PortScan', 2)\n",
    "features['Label'] = features['Label'].replace('DDoS', 3)\n",
    "features['Label'] = features['Label'].replace('FTP-Brute', 4)\n",
    "features['Label'] = features['Label'].replace('SSH-Brute', 5)\n",
    "features['Label'] = features['Label'].replace('Web Attack', 6)\n",
    "features['Label'] = features['Label'].replace('BotNet', 7)"
   ]
  },
  {
   "cell_type": "code",
   "execution_count": 49,
   "id": "9d67b322",
   "metadata": {},
   "outputs": [],
   "source": [
    "#Seleção de atributos (24 no total com Label)\n",
    "features = features[['Bwd Packet Length Min','Subflow Fwd Bytes','Total Length of Fwd Packets','Fwd Packet Length Mean','Bwd Packet Length Std','Flow IAT Min','Fwd IAT Min','Flow IAT Mean','Flow Duration','Flow IAT Std','Active Min','Active Mean','Bwd IAT Mean','Fwd IAT Mean','ACK Flag Count','Fwd PSH Flags','SYN Flag Count','Fwd Packets/s','Init_Win_bytes_backward','Bwd Packets/s','Init_Win_bytes_forward','PSH Flag Count','Average Packet Size','Label']]"
   ]
  },
  {
   "cell_type": "code",
   "execution_count": null,
   "id": "8855813c",
   "metadata": {},
   "outputs": [],
   "source": [
    "#Tratamento de dados infinitos, NaN e Nulos\n",
    "features[features == np.inf] = np.nan\n",
    "\n",
    "#Checa se há valores nulos/NaN\n",
    "features.isnull().values.any()\n",
    "\n",
    "#Substitua pela valor médio do atributo em questão caso haja valores nulos/NaN\n",
    "features.fillna(features.mean(), inplace=True)"
   ]
  },
  {
   "cell_type": "code",
   "execution_count": null,
   "id": "5c1ba783",
   "metadata": {},
   "outputs": [],
   "source": [
    "#Guarda os labels em um array e exclui a coluna 'Label' do dataframe \"features\"\n",
    "labels = np.array(features['Label'])\n",
    "features = features.drop('Label', axis = 1)"
   ]
  },
  {
   "cell_type": "code",
   "execution_count": 20,
   "id": "5af96425",
   "metadata": {},
   "outputs": [],
   "source": [
    "#Realiza o undersampling nas classes\n",
    "sampling_strategy = {0: 20000, 1: 20000, 2: 20000, 3: 20000, 4: 7938, 5: 5897, 6: 2180, 7:1966}\n",
    "rus = RandomUnderSampler(sampling_strategy=sampling_strategy)\n",
    "features, labels = rus.fit_resample(features, labels)"
   ]
  },
  {
   "cell_type": "code",
   "execution_count": 22,
   "id": "649050e3",
   "metadata": {},
   "outputs": [],
   "source": [
    "#Realiza o SMOTE + ENN (oversampling) nas classes\n",
    "features, labels = SMOTEENN().fit_resample(features, labels)\n",
    "print(np.unique(labels, return_counts=True))"
   ]
  },
  {
   "cell_type": "markdown",
   "id": "6e28576f",
   "metadata": {},
   "source": [
    "<h1>Preparando os classificadores</h1>"
   ]
  },
  {
   "cell_type": "code",
   "execution_count": 27,
   "id": "028839a3",
   "metadata": {},
   "outputs": [],
   "source": [
    "#Normaliza os dados para o KNN dar certo\n",
    "scaler = MinMaxScaler()\n",
    "features = scaler.fit_transform(features)"
   ]
  },
  {
   "cell_type": "code",
   "execution_count": 52,
   "id": "3617fc94",
   "metadata": {
    "collapsed": true
   },
   "outputs": [
    {
     "ename": "ValueError",
     "evalue": "Found input variables with inconsistent numbers of samples: [1087517, 155967]",
     "output_type": "error",
     "traceback": [
      "\u001b[1;31m---------------------------------------------------------------------------\u001b[0m",
      "\u001b[1;31mValueError\u001b[0m                                Traceback (most recent call last)",
      "Cell \u001b[1;32mIn[52], line 2\u001b[0m\n\u001b[0;32m      1\u001b[0m \u001b[38;5;66;03m#Separa as entradas no treino/teste para a busca do melhor parametro\u001b[39;00m\n\u001b[1;32m----> 2\u001b[0m X_train, X_test, y_train, y_test \u001b[38;5;241m=\u001b[39m \u001b[43mtrain_test_split\u001b[49m\u001b[43m(\u001b[49m\u001b[43mfeatures\u001b[49m\u001b[43m,\u001b[49m\u001b[43m \u001b[49m\u001b[43mlabels\u001b[49m\u001b[43m,\u001b[49m\u001b[43m \u001b[49m\u001b[43mtest_size\u001b[49m\u001b[43m \u001b[49m\u001b[38;5;241;43m=\u001b[39;49m\u001b[43m \u001b[49m\u001b[38;5;241;43m0.3\u001b[39;49m\u001b[43m,\u001b[49m\u001b[43m \u001b[49m\u001b[43mshuffle\u001b[49m\u001b[38;5;241;43m=\u001b[39;49m\u001b[38;5;28;43;01mTrue\u001b[39;49;00m\u001b[43m,\u001b[49m\u001b[43m \u001b[49m\u001b[43mrandom_state\u001b[49m\u001b[43m \u001b[49m\u001b[38;5;241;43m=\u001b[39;49m\u001b[43m \u001b[49m\u001b[38;5;241;43m0\u001b[39;49m\u001b[43m)\u001b[49m\n",
      "File \u001b[1;32mC:\\Python310\\lib\\site-packages\\sklearn\\model_selection\\_split.py:2559\u001b[0m, in \u001b[0;36mtrain_test_split\u001b[1;34m(test_size, train_size, random_state, shuffle, stratify, *arrays)\u001b[0m\n\u001b[0;32m   2556\u001b[0m \u001b[38;5;28;01mif\u001b[39;00m n_arrays \u001b[38;5;241m==\u001b[39m \u001b[38;5;241m0\u001b[39m:\n\u001b[0;32m   2557\u001b[0m     \u001b[38;5;28;01mraise\u001b[39;00m \u001b[38;5;167;01mValueError\u001b[39;00m(\u001b[38;5;124m\"\u001b[39m\u001b[38;5;124mAt least one array required as input\u001b[39m\u001b[38;5;124m\"\u001b[39m)\n\u001b[1;32m-> 2559\u001b[0m arrays \u001b[38;5;241m=\u001b[39m \u001b[43mindexable\u001b[49m\u001b[43m(\u001b[49m\u001b[38;5;241;43m*\u001b[39;49m\u001b[43marrays\u001b[49m\u001b[43m)\u001b[49m\n\u001b[0;32m   2561\u001b[0m n_samples \u001b[38;5;241m=\u001b[39m _num_samples(arrays[\u001b[38;5;241m0\u001b[39m])\n\u001b[0;32m   2562\u001b[0m n_train, n_test \u001b[38;5;241m=\u001b[39m _validate_shuffle_split(\n\u001b[0;32m   2563\u001b[0m     n_samples, test_size, train_size, default_test_size\u001b[38;5;241m=\u001b[39m\u001b[38;5;241m0.25\u001b[39m\n\u001b[0;32m   2564\u001b[0m )\n",
      "File \u001b[1;32mC:\\Python310\\lib\\site-packages\\sklearn\\utils\\validation.py:443\u001b[0m, in \u001b[0;36mindexable\u001b[1;34m(*iterables)\u001b[0m\n\u001b[0;32m    424\u001b[0m \u001b[38;5;250m\u001b[39m\u001b[38;5;124;03m\"\"\"Make arrays indexable for cross-validation.\u001b[39;00m\n\u001b[0;32m    425\u001b[0m \n\u001b[0;32m    426\u001b[0m \u001b[38;5;124;03mChecks consistent length, passes through None, and ensures that everything\u001b[39;00m\n\u001b[1;32m   (...)\u001b[0m\n\u001b[0;32m    439\u001b[0m \u001b[38;5;124;03m    sparse matrix, or dataframe) or `None`.\u001b[39;00m\n\u001b[0;32m    440\u001b[0m \u001b[38;5;124;03m\"\"\"\u001b[39;00m\n\u001b[0;32m    442\u001b[0m result \u001b[38;5;241m=\u001b[39m [_make_indexable(X) \u001b[38;5;28;01mfor\u001b[39;00m X \u001b[38;5;129;01min\u001b[39;00m iterables]\n\u001b[1;32m--> 443\u001b[0m \u001b[43mcheck_consistent_length\u001b[49m\u001b[43m(\u001b[49m\u001b[38;5;241;43m*\u001b[39;49m\u001b[43mresult\u001b[49m\u001b[43m)\u001b[49m\n\u001b[0;32m    444\u001b[0m \u001b[38;5;28;01mreturn\u001b[39;00m result\n",
      "File \u001b[1;32mC:\\Python310\\lib\\site-packages\\sklearn\\utils\\validation.py:397\u001b[0m, in \u001b[0;36mcheck_consistent_length\u001b[1;34m(*arrays)\u001b[0m\n\u001b[0;32m    395\u001b[0m uniques \u001b[38;5;241m=\u001b[39m np\u001b[38;5;241m.\u001b[39munique(lengths)\n\u001b[0;32m    396\u001b[0m \u001b[38;5;28;01mif\u001b[39;00m \u001b[38;5;28mlen\u001b[39m(uniques) \u001b[38;5;241m>\u001b[39m \u001b[38;5;241m1\u001b[39m:\n\u001b[1;32m--> 397\u001b[0m     \u001b[38;5;28;01mraise\u001b[39;00m \u001b[38;5;167;01mValueError\u001b[39;00m(\n\u001b[0;32m    398\u001b[0m         \u001b[38;5;124m\"\u001b[39m\u001b[38;5;124mFound input variables with inconsistent numbers of samples: \u001b[39m\u001b[38;5;132;01m%r\u001b[39;00m\u001b[38;5;124m\"\u001b[39m\n\u001b[0;32m    399\u001b[0m         \u001b[38;5;241m%\u001b[39m [\u001b[38;5;28mint\u001b[39m(l) \u001b[38;5;28;01mfor\u001b[39;00m l \u001b[38;5;129;01min\u001b[39;00m lengths]\n\u001b[0;32m    400\u001b[0m     )\n",
      "\u001b[1;31mValueError\u001b[0m: Found input variables with inconsistent numbers of samples: [1087517, 155967]"
     ]
    }
   ],
   "source": [
    "#Separa as entradas no treino/teste para a busca do melhor parametro\n",
    "X_train, X_test, y_train, y_test = train_test_split(features, labels, test_size = 0.3, shuffle=True, random_state = 0)"
   ]
  },
  {
   "cell_type": "code",
   "execution_count": 28,
   "id": "add9b80d",
   "metadata": {},
   "outputs": [],
   "source": [
    "#Checa a quantidade de instancias de cada classe do teste/treino\n",
    "print(np.unique(train_labels, return_counts=True))\n",
    "print(np.unique(test_labels, return_counts=True))"
   ]
  },
  {
   "cell_type": "code",
   "execution_count": 29,
   "id": "ae1eb4f0",
   "metadata": {
    "scrolled": true
   },
   "outputs": [
    {
     "data": {
      "text/plain": [
       "(array([0, 1, 2, 3, 4, 5, 6, 7], dtype=int64),\n",
       " array([20000, 20000, 20000, 20000,  7938,  5897,  2180,  1966],\n",
       "       dtype=int64))"
      ]
     },
     "execution_count": 29,
     "metadata": {},
     "output_type": "execute_result"
    }
   ],
   "source": [
    "#Realiza a \"busca\" pelo melhor hiperparametro (estimator) para o Random Forest\n",
    "param_dist = {'n_estimators': randint(100,400)}\n",
    "rf = RandomForestClassifier()\n",
    "rand_search = RandomizedSearchCV(rf, param_distributions = param_dist, n_iter=5, cv=5)\n",
    "rand_search.fit(X_train, y_train)\n",
    "\n",
    "#Variável do melhor classificador\n",
    "best_rf = rand_search.best_estimator_\n",
    "\n",
    "#Mostra o melhor hiperparametro\n",
    "print('Melhor hiperparametro RF:',  best_rf)"
   ]
  },
  {
   "cell_type": "code",
   "execution_count": 30,
   "id": "f15403b8",
   "metadata": {},
   "outputs": [
    {
     "name": "stdout",
     "output_type": "stream",
     "text": [
      "(array([0, 1, 2, 3, 4, 5, 6, 7], dtype=int64), array([17976, 19398, 19949, 19733, 19860, 19833, 19627, 19591],\n",
      "      dtype=int64))\n"
     ]
    }
   ],
   "source": [
    "#Realiza a \"busca\" pelo melhor hiperparametro (estimator) para o XGBoost\n",
    "param_dist = {'n_estimators': randint(100,400)}\n",
    "xgb = XGBClassifier()\n",
    "rand_search = RandomizedSearchCV(xgb, param_distributions = param_dist, n_iter=5, cv=5)\n",
    "rand_search.fit(X_train, y_train)\n",
    "\n",
    "#Variável do melhor classificador\n",
    "best_xgb = rand_search.best_estimator_\n",
    "\n",
    "#Mostra o melhor hiperparametro\n",
    "print('Melhor hiperparametro XGBoost:',  best_xgb)"
   ]
  },
  {
   "cell_type": "code",
   "execution_count": 55,
   "id": "5b0f6efb",
   "metadata": {
    "collapsed": true
   },
   "outputs": [
    {
     "ename": "NameError",
     "evalue": "name 'randint' is not defined",
     "output_type": "error",
     "traceback": [
      "\u001b[1;31m---------------------------------------------------------------------------\u001b[0m",
      "\u001b[1;31mNameError\u001b[0m                                 Traceback (most recent call last)",
      "Cell \u001b[1;32mIn[55], line 2\u001b[0m\n\u001b[0;32m      1\u001b[0m \u001b[38;5;66;03m#Realiza a \"busca\" pelo melhor hiperparametro (estimator) para o KNN\u001b[39;00m\n\u001b[1;32m----> 2\u001b[0m param_dist \u001b[38;5;241m=\u001b[39m {\u001b[38;5;124m'\u001b[39m\u001b[38;5;124mn_neighbors\u001b[39m\u001b[38;5;124m'\u001b[39m: \u001b[43mrandint\u001b[49m(\u001b[38;5;241m1\u001b[39m,\u001b[38;5;241m17\u001b[39m)}\n\u001b[0;32m      3\u001b[0m knn \u001b[38;5;241m=\u001b[39m KNeighborsClassifier()\n\u001b[0;32m      4\u001b[0m rand_search \u001b[38;5;241m=\u001b[39m RandomizedSearchCV(knn, param_distributions \u001b[38;5;241m=\u001b[39m param_dist, n_iter\u001b[38;5;241m=\u001b[39m\u001b[38;5;241m5\u001b[39m, cv\u001b[38;5;241m=\u001b[39m\u001b[38;5;241m5\u001b[39m)\n",
      "\u001b[1;31mNameError\u001b[0m: name 'randint' is not defined"
     ]
    }
   ],
   "source": [
    "#Realiza a \"busca\" pelo melhor hiperparametro (estimator) para o KNN\n",
    "param_dist = {'n_neighbors': randint(1,17)}\n",
    "knn = KNeighborsClassifier()\n",
    "rand_search = RandomizedSearchCV(knn, param_distributions = param_dist, n_iter=5, cv=5)\n",
    "rand_search.fit(X_train, y_train)\n",
    "\n",
    "#Variável do melhor classificador\n",
    "best_knn = rand_search.best_params_\n",
    "\n",
    "#Mostra o melhor hiperparametro\n",
    "print('Melhor hiperparametro KNN:',  best_knn)"
   ]
  },
  {
   "cell_type": "code",
   "execution_count": null,
   "id": "c1d7d5fd",
   "metadata": {},
   "outputs": [],
   "source": [
    "#Criando os classificadores RF, XGBoost e KNN com os melhores parametros\n",
    "rf = RandomForestClassifier(n_estimators = 300)\n",
    "xgb = XGBClassifier(n_estimators = 300)\n",
    "knn = KNeighborsClassifier(n_neighbors = 11)"
   ]
  },
  {
   "cell_type": "markdown",
   "id": "c6a13970",
   "metadata": {},
   "source": [
    "<h1>Treino e Teste dos modelos</h1>"
   ]
  },
  {
   "cell_type": "code",
   "execution_count": 56,
   "id": "a15d9172",
   "metadata": {
    "collapsed": true
   },
   "outputs": [
    {
     "ename": "KeyError",
     "evalue": "\"None of [Index([      0,       1,       2,       3,       4,       5,       6,       8,\\n             9,      11,\\n       ...\\n       1087503, 1087504, 1087506, 1087507, 1087508, 1087509, 1087510, 1087511,\\n       1087513, 1087515],\\n      dtype='int32', length=870013)] are in the [columns]\"",
     "output_type": "error",
     "traceback": [
      "\u001b[1;31m---------------------------------------------------------------------------\u001b[0m",
      "\u001b[1;31mKeyError\u001b[0m                                  Traceback (most recent call last)",
      "Cell \u001b[1;32mIn[56], line 4\u001b[0m\n\u001b[0;32m      1\u001b[0m kFold \u001b[38;5;241m=\u001b[39m KFold(n_splits\u001b[38;5;241m=\u001b[39m\u001b[38;5;241m5\u001b[39m,shuffle\u001b[38;5;241m=\u001b[39m\u001b[38;5;28;01mTrue\u001b[39;00m)\n\u001b[0;32m      2\u001b[0m \u001b[38;5;28;01mfor\u001b[39;00m train_index, test_index \u001b[38;5;129;01min\u001b[39;00m kFold\u001b[38;5;241m.\u001b[39msplit(features):\n\u001b[1;32m----> 4\u001b[0m     X_train, X_test, y_train, y_test \u001b[38;5;241m=\u001b[39m \u001b[43mfeatures\u001b[49m\u001b[43m[\u001b[49m\u001b[43mtrain_index\u001b[49m\u001b[43m]\u001b[49m, features[test_index], labels[train_index], labels[test_index]\n\u001b[0;32m      7\u001b[0m     rf\u001b[38;5;241m.\u001b[39mfit(X_train, y_train)\n\u001b[0;32m      9\u001b[0m     xgb\u001b[38;5;241m.\u001b[39mfit(X_train, y_train)\n",
      "File \u001b[1;32mC:\\Python310\\lib\\site-packages\\pandas\\core\\frame.py:3766\u001b[0m, in \u001b[0;36mDataFrame.__getitem__\u001b[1;34m(self, key)\u001b[0m\n\u001b[0;32m   3764\u001b[0m     \u001b[38;5;28;01mif\u001b[39;00m is_iterator(key):\n\u001b[0;32m   3765\u001b[0m         key \u001b[38;5;241m=\u001b[39m \u001b[38;5;28mlist\u001b[39m(key)\n\u001b[1;32m-> 3766\u001b[0m     indexer \u001b[38;5;241m=\u001b[39m \u001b[38;5;28;43mself\u001b[39;49m\u001b[38;5;241;43m.\u001b[39;49m\u001b[43mcolumns\u001b[49m\u001b[38;5;241;43m.\u001b[39;49m\u001b[43m_get_indexer_strict\u001b[49m\u001b[43m(\u001b[49m\u001b[43mkey\u001b[49m\u001b[43m,\u001b[49m\u001b[43m \u001b[49m\u001b[38;5;124;43m\"\u001b[39;49m\u001b[38;5;124;43mcolumns\u001b[39;49m\u001b[38;5;124;43m\"\u001b[39;49m\u001b[43m)\u001b[49m[\u001b[38;5;241m1\u001b[39m]\n\u001b[0;32m   3768\u001b[0m \u001b[38;5;66;03m# take() does not accept boolean indexers\u001b[39;00m\n\u001b[0;32m   3769\u001b[0m \u001b[38;5;28;01mif\u001b[39;00m \u001b[38;5;28mgetattr\u001b[39m(indexer, \u001b[38;5;124m\"\u001b[39m\u001b[38;5;124mdtype\u001b[39m\u001b[38;5;124m\"\u001b[39m, \u001b[38;5;28;01mNone\u001b[39;00m) \u001b[38;5;241m==\u001b[39m \u001b[38;5;28mbool\u001b[39m:\n",
      "File \u001b[1;32mC:\\Python310\\lib\\site-packages\\pandas\\core\\indexes\\base.py:5876\u001b[0m, in \u001b[0;36mIndex._get_indexer_strict\u001b[1;34m(self, key, axis_name)\u001b[0m\n\u001b[0;32m   5873\u001b[0m \u001b[38;5;28;01melse\u001b[39;00m:\n\u001b[0;32m   5874\u001b[0m     keyarr, indexer, new_indexer \u001b[38;5;241m=\u001b[39m \u001b[38;5;28mself\u001b[39m\u001b[38;5;241m.\u001b[39m_reindex_non_unique(keyarr)\n\u001b[1;32m-> 5876\u001b[0m \u001b[38;5;28;43mself\u001b[39;49m\u001b[38;5;241;43m.\u001b[39;49m\u001b[43m_raise_if_missing\u001b[49m\u001b[43m(\u001b[49m\u001b[43mkeyarr\u001b[49m\u001b[43m,\u001b[49m\u001b[43m \u001b[49m\u001b[43mindexer\u001b[49m\u001b[43m,\u001b[49m\u001b[43m \u001b[49m\u001b[43maxis_name\u001b[49m\u001b[43m)\u001b[49m\n\u001b[0;32m   5878\u001b[0m keyarr \u001b[38;5;241m=\u001b[39m \u001b[38;5;28mself\u001b[39m\u001b[38;5;241m.\u001b[39mtake(indexer)\n\u001b[0;32m   5879\u001b[0m \u001b[38;5;28;01mif\u001b[39;00m \u001b[38;5;28misinstance\u001b[39m(key, Index):\n\u001b[0;32m   5880\u001b[0m     \u001b[38;5;66;03m# GH 42790 - Preserve name from an Index\u001b[39;00m\n",
      "File \u001b[1;32mC:\\Python310\\lib\\site-packages\\pandas\\core\\indexes\\base.py:5935\u001b[0m, in \u001b[0;36mIndex._raise_if_missing\u001b[1;34m(self, key, indexer, axis_name)\u001b[0m\n\u001b[0;32m   5933\u001b[0m     \u001b[38;5;28;01mif\u001b[39;00m use_interval_msg:\n\u001b[0;32m   5934\u001b[0m         key \u001b[38;5;241m=\u001b[39m \u001b[38;5;28mlist\u001b[39m(key)\n\u001b[1;32m-> 5935\u001b[0m     \u001b[38;5;28;01mraise\u001b[39;00m \u001b[38;5;167;01mKeyError\u001b[39;00m(\u001b[38;5;124mf\u001b[39m\u001b[38;5;124m\"\u001b[39m\u001b[38;5;124mNone of [\u001b[39m\u001b[38;5;132;01m{\u001b[39;00mkey\u001b[38;5;132;01m}\u001b[39;00m\u001b[38;5;124m] are in the [\u001b[39m\u001b[38;5;132;01m{\u001b[39;00maxis_name\u001b[38;5;132;01m}\u001b[39;00m\u001b[38;5;124m]\u001b[39m\u001b[38;5;124m\"\u001b[39m)\n\u001b[0;32m   5937\u001b[0m not_found \u001b[38;5;241m=\u001b[39m \u001b[38;5;28mlist\u001b[39m(ensure_index(key)[missing_mask\u001b[38;5;241m.\u001b[39mnonzero()[\u001b[38;5;241m0\u001b[39m]]\u001b[38;5;241m.\u001b[39munique())\n\u001b[0;32m   5938\u001b[0m \u001b[38;5;28;01mraise\u001b[39;00m \u001b[38;5;167;01mKeyError\u001b[39;00m(\u001b[38;5;124mf\u001b[39m\u001b[38;5;124m\"\u001b[39m\u001b[38;5;132;01m{\u001b[39;00mnot_found\u001b[38;5;132;01m}\u001b[39;00m\u001b[38;5;124m not in index\u001b[39m\u001b[38;5;124m\"\u001b[39m)\n",
      "\u001b[1;31mKeyError\u001b[0m: \"None of [Index([      0,       1,       2,       3,       4,       5,       6,       8,\\n             9,      11,\\n       ...\\n       1087503, 1087504, 1087506, 1087507, 1087508, 1087509, 1087510, 1087511,\\n       1087513, 1087515],\\n      dtype='int32', length=870013)] are in the [columns]\""
     ]
    }
   ],
   "source": [
    "kFold = KFold(n_splits=5,shuffle=True)\n",
    "for train_index, test_index in kFold.split(features):\n",
    "    \n",
    "    X_train, X_test, y_train, y_test = features[train_index], features[test_index], labels[train_index], labels[test_index]\n",
    "    \n",
    "    \n",
    "    rf.fit(X_train, y_train)\n",
    "    \n",
    "    xgb.fit(X_train, y_train)\n",
    "    \n",
    "    knn.fit(X_train, y_train)\n",
    "    \n",
    "    \n",
    "    predrf = rf.predict(X_test)\n",
    "    print(\"Accuracy RF: \", round(accuracy_score(y_test, predrf), 4), \"\\n\")\n",
    "    print(\"Precision RF: \", round(precision_score(y_test, predrf, average='macro'), 4), \"\\n --- \\n\")\n",
    "    \n",
    "    \n",
    "    predxgb = xgb.predict(X_test)\n",
    "    print(\"Accuracy XGB: \", round(accuracy_score(y_test, predxgb), 4), \"\\n\")\n",
    "    print(\"Precision XGB: \", round(precision_score(y_test, predxgb, average='macro'), 4), \"\\n --- \\n\")\n",
    "\n",
    "    \n",
    "    predknn = knn.predict(X_test)\n",
    "    print(\"Accuracy KNN: \", round(accuracy_score(y_test, predknn), 4), \"\\n\")\n",
    "    print(\"Precision KNN: \", round(precision_score(y_test, predknn, average='macro'), 4), \"\\n --- \\n\")\n"
   ]
  },
  {
   "cell_type": "markdown",
   "id": "aecd2e62",
   "metadata": {},
   "source": [
    "<h1>Construindo e plotando matrizes de confusão dos modelos<h1>\n",
    "<h2>Utiliza o último resultado do K-Fold</h2>"
   ]
  },
  {
   "cell_type": "code",
   "execution_count": null,
   "id": "1ff0bc03",
   "metadata": {
    "scrolled": false
   },
   "outputs": [],
   "source": [
    "#Matriz de confusão do RF\n",
    "cmrf = confusion_matrix(y_test, predrf)\n",
    "ConfusionMatrixDisplay(confusion_matrix=cmrf).plot();"
   ]
  },
  {
   "cell_type": "code",
   "execution_count": null,
   "id": "b68d2b85",
   "metadata": {
    "scrolled": false
   },
   "outputs": [],
   "source": [
    "#Matriz de confusão do XGBoost\n",
    "cmxgb = confusion_matrix(y_test, predxgb)\n",
    "ConfusionMatrixDisplay(confusion_matrix=cmxgb).plot();"
   ]
  },
  {
   "cell_type": "code",
   "execution_count": null,
   "id": "b7c0ab77",
   "metadata": {
    "scrolled": false
   },
   "outputs": [],
   "source": [
    "#Matriz de confusão do KNN\n",
    "cmknn = confusion_matrix(y_test, predknn)\n",
    "ConfusionMatrixDisplay(confusion_matrix=cmknn).plot();"
   ]
  },
  {
   "cell_type": "code",
   "execution_count": null,
   "id": "c2335bb8",
   "metadata": {
    "scrolled": true
   },
   "outputs": [],
   "source": [
    "#Se desejado, é possível realizar o cross_validate (CV) (que usa o StratifiedKFold) para re-testar os modelos\n",
    "\n",
    "#CV do RF\n",
    "print(cross_validate(rf, features, labels, scoring=['accuracy', 'precision_macro'], cv=5))\n",
    "\n",
    "#CV do XGBoost\n",
    "print(cross_validate(xgb, features, labels, scoring=['accuracy', 'precision_macro'], cv=5))\n",
    "\n",
    "#CV do KNN\n",
    "print(cross_validate(knn, features, labels, scoring=['accuracy', 'precision_macro'], cv=5))"
   ]
  }
 ],
 "metadata": {
  "kernelspec": {
   "display_name": "Python 3 (ipykernel)",
   "language": "python",
   "name": "python3"
  },
  "language_info": {
   "codemirror_mode": {
    "name": "ipython",
    "version": 3
   },
   "file_extension": ".py",
   "mimetype": "text/x-python",
   "name": "python",
   "nbconvert_exporter": "python",
   "pygments_lexer": "ipython3",
   "version": "3.10.0"
  }
 },
 "nbformat": 4,
 "nbformat_minor": 5
}
